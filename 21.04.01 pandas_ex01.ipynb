{
 "cells": [
  {
   "cell_type": "code",
   "execution_count": 2,
   "metadata": {},
   "outputs": [],
   "source": [
    "import numpy as np\n",
    "import pandas as pd"
   ]
  },
  {
   "cell_type": "markdown",
   "metadata": {},
   "source": [
    "## series 생성\n",
    "- 1차원, 1개의 column을 Series라고 한다."
   ]
  },
  {
   "cell_type": "code",
   "execution_count": 6,
   "metadata": {},
   "outputs": [
    {
     "data": {
      "text/plain": [
       "0    1\n",
       "1    2\n",
       "2    3\n",
       "3    4\n",
       "dtype: int64"
      ]
     },
     "execution_count": 6,
     "metadata": {},
     "output_type": "execute_result"
    }
   ],
   "source": [
    "pd.Series([1,2,3,4])"
   ]
  },
  {
   "cell_type": "code",
   "execution_count": 9,
   "metadata": {},
   "outputs": [
    {
     "data": {
      "text/plain": [
       "0    9904124\n",
       "1    3448736\n",
       "2    2895432\n",
       "3    2466052\n",
       "dtype: int64"
      ]
     },
     "execution_count": 9,
     "metadata": {},
     "output_type": "execute_result"
    }
   ],
   "source": [
    "population= pd.Series([9904124,3448736,2895432,2466052])\n",
    "population"
   ]
  },
  {
   "cell_type": "code",
   "execution_count": 11,
   "metadata": {},
   "outputs": [
    {
     "data": {
      "text/plain": [
       "서울    9904124\n",
       "부산    3448736\n",
       "인천    2895432\n",
       "대구    2466052\n",
       "dtype: int64"
      ]
     },
     "execution_count": 11,
     "metadata": {},
     "output_type": "execute_result"
    }
   ],
   "source": [
    "#인덱스 지정해서 생성\n",
    "population= pd.Series([9904124,3448736,2895432,2466052], index= ['서울', '부산','인천','대구'])\n",
    "population"
   ]
  },
  {
   "cell_type": "markdown",
   "metadata": {},
   "source": [
    "### series에 이름 지정\n",
    "- name\n",
    "- index.name"
   ]
  },
  {
   "cell_type": "code",
   "execution_count": 14,
   "metadata": {},
   "outputs": [
    {
     "data": {
      "text/plain": [
       "도시\n",
       "서울    9904124\n",
       "부산    3448736\n",
       "인천    2895432\n",
       "대구    2466052\n",
       "Name: 인구, dtype: int64"
      ]
     },
     "execution_count": 14,
     "metadata": {},
     "output_type": "execute_result"
    }
   ],
   "source": [
    "#값에 이름 달기\n",
    "population.name= '인구'\n",
    "# 인덱스에 이름달기\n",
    "population.index.name ='도시'\n",
    "population"
   ]
  },
  {
   "cell_type": "markdown",
   "metadata": {},
   "source": [
    "## 인덱스 지정, 인덱스 이름, 값이름 추가하기"
   ]
  },
  {
   "cell_type": "markdown",
   "metadata": {},
   "source": [
    "### Series 데이터 확인\n",
    "- values: 값 확인\n",
    "- index: 인덱스 확인\n",
    "- dtype: 데이터 타입 확인"
   ]
  },
  {
   "cell_type": "code",
   "execution_count": 18,
   "metadata": {},
   "outputs": [
    {
     "name": "stdout",
     "output_type": "stream",
     "text": [
      "Series 값 확인:  [9904124 3448736 2895432 2466052]\n",
      "Series 인덱스 확인:  Index(['서울', '부산', '인천', '대구'], dtype='object', name='도시')\n",
      "Series 데이터타입 확인:  int64\n"
     ]
    }
   ],
   "source": [
    "print('Series 값 확인: ',population.values)\n",
    "print('Series 인덱스 확인: ',population.index)\n",
    "print('Series 데이터타입 확인: ',population.dtype)"
   ]
  },
  {
   "cell_type": "code",
   "execution_count": 19,
   "metadata": {},
   "outputs": [
    {
     "data": {
      "text/plain": [
       "id\n",
       "1번    1\n",
       "2번    2\n",
       "3번    3\n",
       "4번    4\n",
       "Name: 학생정보, dtype: int64"
      ]
     },
     "execution_count": 19,
     "metadata": {},
     "output_type": "execute_result"
    }
   ],
   "source": [
    "sd= pd.Series([1,2,3,4], index = ['1번','2번','3번','4번'])\n",
    "sd.name = '학생정보'\n",
    "sd.index.name = 'id'\n",
    "sd"
   ]
  },
  {
   "cell_type": "code",
   "execution_count": 23,
   "metadata": {},
   "outputs": [
    {
     "name": "stdout",
     "output_type": "stream",
     "text": [
      "Series 값 확인:  [1 2 3 4]\n",
      "Series 인덱스 확인:  Index(['1번', '2번', '3번', '4번'], dtype='object', name='id')\n",
      "Series 데이터타입 확인:  int64\n"
     ]
    }
   ],
   "source": [
    "print('Series 값 확인: ',sd.values)\n",
    "print('Series 인덱스 확인: ',sd.index)\n",
    "print('Series 데이터타입 확인: ',sd.dtype)"
   ]
  },
  {
   "cell_type": "code",
   "execution_count": null,
   "metadata": {},
   "outputs": [],
   "source": []
  },
  {
   "cell_type": "code",
   "execution_count": null,
   "metadata": {},
   "outputs": [],
   "source": []
  }
 ],
 "metadata": {
  "kernelspec": {
   "display_name": "Python 3",
   "language": "python",
   "name": "python3"
  },
  "language_info": {
   "codemirror_mode": {
    "name": "ipython",
    "version": 3
   },
   "file_extension": ".py",
   "mimetype": "text/x-python",
   "name": "python",
   "nbconvert_exporter": "python",
   "pygments_lexer": "ipython3",
   "version": "3.8.5"
  }
 },
 "nbformat": 4,
 "nbformat_minor": 4
}
