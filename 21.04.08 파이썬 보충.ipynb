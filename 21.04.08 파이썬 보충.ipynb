{
 "cells": [
  {
   "cell_type": "code",
   "execution_count": 4,
   "metadata": {},
   "outputs": [
    {
     "data": {
      "text/plain": [
       "7"
      ]
     },
     "execution_count": 4,
     "metadata": {},
     "output_type": "execute_result"
    }
   ],
   "source": [
    "3+4"
   ]
  },
  {
   "cell_type": "code",
   "execution_count": 7,
   "metadata": {},
   "outputs": [],
   "source": [
    "s = \"안녕하세요!\""
   ]
  },
  {
   "cell_type": "code",
   "execution_count": 6,
   "metadata": {},
   "outputs": [
    {
     "name": "stdout",
     "output_type": "stream",
     "text": [
      "7\n"
     ]
    }
   ],
   "source": [
    "#변수를 사용하는 이유 -> 코드의 간결화, 기억하기 위해서 재사용!\n",
    "num = 3+4\n",
    "print(num)\n"
   ]
  },
  {
   "cell_type": "code",
   "execution_count": 10,
   "metadata": {},
   "outputs": [
    {
     "name": "stdout",
     "output_type": "stream",
     "text": [
      "<class 'int'>\n",
      "<class 'str'>\n"
     ]
    }
   ],
   "source": [
    "print(type(num))\n",
    "print(type(s))"
   ]
  },
  {
   "cell_type": "code",
   "execution_count": 11,
   "metadata": {},
   "outputs": [
    {
     "data": {
      "text/plain": [
       "'안녕하세요!'"
      ]
     },
     "execution_count": 11,
     "metadata": {},
     "output_type": "execute_result"
    }
   ],
   "source": [
    "#하나의 셀 안에서 변수를 호출했을 시 가장 마지막의 변수만 출력된다.\n",
    "num\n",
    "s"
   ]
  },
  {
   "cell_type": "code",
   "execution_count": 13,
   "metadata": {},
   "outputs": [
    {
     "data": {
      "text/plain": [
       "(7, '안녕하세요!')"
      ]
     },
     "execution_count": 13,
     "metadata": {},
     "output_type": "execute_result"
    }
   ],
   "source": [
    "# 한줄에 여러개의 변수값을 출력하고 싶다면\n",
    "# , (콤마)사용하여 한번에 출력해 줄 수 있다.\n",
    "num, s"
   ]
  },
  {
   "cell_type": "code",
   "execution_count": 15,
   "metadata": {},
   "outputs": [],
   "source": [
    "# 변수를 지을때 고려해야 하는 사항들!\n",
    "# 1. 대, 소 문자를 구분해야한다.\n",
    "Num =5\n",
    "num = 6\n",
    "# 2. 숫자로 시작할 수 없다. (변수, 매소드, 클래스 전부 그렇다.)\n",
    "num1 = 10\n",
    "num2 = 23 # 뒤에다가 숫자는 가능하다."
   ]
  },
  {
   "cell_type": "code",
   "execution_count": 17,
   "metadata": {},
   "outputs": [
    {
     "name": "stdout",
     "output_type": "stream",
     "text": [
      "['False', 'None', 'True', 'and', 'as', 'assert', 'async', 'await', 'break', 'class', 'continue', 'def', 'del', 'elif', 'else', 'except', 'finally', 'for', 'from', 'global', 'if', 'import', 'in', 'is', 'lambda', 'nonlocal', 'not', 'or', 'pass', 'raise', 'return', 'try', 'while', 'with', 'yield']\n"
     ]
    }
   ],
   "source": [
    "#3. 변수명은 키워드로 지정할 수 없다. -> 초록색으로 띄워지는 것들\n",
    "#파이썬 내에 지정된 키워드 확인하는 방법\n",
    "\n",
    "import keyword\n",
    "print(keyword.kwlist)"
   ]
  },
  {
   "cell_type": "code",
   "execution_count": 26,
   "metadata": {},
   "outputs": [
    {
     "data": {
      "text/plain": [
       "5"
      ]
     },
     "execution_count": 26,
     "metadata": {},
     "output_type": "execute_result"
    }
   ],
   "source": [
    "# 연산자의 종류\n",
    "# 1. 산술연산자\n",
    "# 2. 지수연산자 (**)\n",
    "# 3. 대입복합 연산자 \n",
    "num = num +1\n",
    "num+=1\n",
    "# +=,-=,*=, /=,//=, %=\n",
    "# 4. 비교 연산자\n",
    "# >,<,<=, >=, ==, !=\n",
    "# 5. 논리 연산자\n",
    "# not, and, or\n",
    "# 6. 삼항연산자\n",
    "num1 =5\n",
    "num2 = 10\n",
    "num1 - num2 if num1 > num2 else num2 - num1\n",
    "\n",
    "\n"
   ]
  },
  {
   "cell_type": "code",
   "execution_count": 28,
   "metadata": {},
   "outputs": [
    {
     "data": {
      "text/plain": [
       "'불합격'"
      ]
     },
     "execution_count": 28,
     "metadata": {},
     "output_type": "execute_result"
    }
   ],
   "source": [
    "score = 70\n",
    "a = \"합격\"\n",
    "b = \"불합격\"\n",
    "a if score >=80 else b"
   ]
  },
  {
   "cell_type": "code",
   "execution_count": 36,
   "metadata": {},
   "outputs": [
    {
     "ename": "TypeError",
     "evalue": "unsupported operand type(s) for +: 'int' and 'str'",
     "output_type": "error",
     "traceback": [
      "\u001b[1;31m---------------------------------------------------------------------------\u001b[0m",
      "\u001b[1;31mTypeError\u001b[0m                                 Traceback (most recent call last)",
      "\u001b[1;32m<ipython-input-36-5d6b3282557f>\u001b[0m in \u001b[0;36m<module>\u001b[1;34m\u001b[0m\n\u001b[0;32m      2\u001b[0m \u001b[0mnum1\u001b[0m \u001b[1;33m=\u001b[0m\u001b[1;36m5\u001b[0m\u001b[1;33m\u001b[0m\u001b[1;33m\u001b[0m\u001b[0m\n\u001b[0;32m      3\u001b[0m \u001b[0ms\u001b[0m \u001b[1;33m=\u001b[0m \u001b[1;34m\"7\"\u001b[0m\u001b[1;33m\u001b[0m\u001b[1;33m\u001b[0m\u001b[0m\n\u001b[1;32m----> 4\u001b[1;33m \u001b[0mnum1\u001b[0m \u001b[1;33m+\u001b[0m \u001b[0ms\u001b[0m\u001b[1;33m\u001b[0m\u001b[1;33m\u001b[0m\u001b[0m\n\u001b[0m",
      "\u001b[1;31mTypeError\u001b[0m: unsupported operand type(s) for +: 'int' and 'str'"
     ]
    }
   ],
   "source": [
    "#  숫자 + 문자 연산 불가\n",
    "num1 =5\n",
    "s = \"7\"\n",
    "num1 + s"
   ]
  },
  {
   "cell_type": "code",
   "execution_count": 32,
   "metadata": {},
   "outputs": [
    {
     "name": "stdout",
     "output_type": "stream",
     "text": [
      "num의 형태 <class 'str'>\n"
     ]
    }
   ],
   "source": [
    "# 데이터의 형태를 변경시키는 기능: 형변환\n",
    "# 숫자 -> 문자 / 문자 + 문자\n",
    "print('num의 형태', type(num))\n",
    "num=str(num)"
   ]
  },
  {
   "cell_type": "code",
   "execution_count": 33,
   "metadata": {},
   "outputs": [
    {
     "data": {
      "text/plain": [
       "str"
      ]
     },
     "execution_count": 33,
     "metadata": {},
     "output_type": "execute_result"
    }
   ],
   "source": [
    "type(num)"
   ]
  },
  {
   "cell_type": "code",
   "execution_count": 37,
   "metadata": {},
   "outputs": [
    {
     "data": {
      "text/plain": [
       "int"
      ]
     },
     "execution_count": 37,
     "metadata": {},
     "output_type": "execute_result"
    }
   ],
   "source": [
    "# 숫자 + 문자 -> 숫자\n",
    "s = int(s)\n",
    "type(s)"
   ]
  },
  {
   "cell_type": "code",
   "execution_count": 38,
   "metadata": {},
   "outputs": [],
   "source": [
    "s = '안녕하세요'"
   ]
  },
  {
   "cell_type": "code",
   "execution_count": 39,
   "metadata": {},
   "outputs": [
    {
     "data": {
      "text/plain": [
       "'안녕하세요'"
      ]
     },
     "execution_count": 39,
     "metadata": {},
     "output_type": "execute_result"
    }
   ],
   "source": [
    "s"
   ]
  },
  {
   "cell_type": "code",
   "execution_count": 40,
   "metadata": {},
   "outputs": [
    {
     "data": {
      "text/plain": [
       "'안'"
      ]
     },
     "execution_count": 40,
     "metadata": {},
     "output_type": "execute_result"
    }
   ],
   "source": [
    "# 자리/위치 값 -> [] (인덱스)\n",
    "s[0]"
   ]
  },
  {
   "cell_type": "code",
   "execution_count": 41,
   "metadata": {},
   "outputs": [
    {
     "data": {
      "text/plain": [
       "'안녕'"
      ]
     },
     "execution_count": 41,
     "metadata": {},
     "output_type": "execute_result"
    }
   ],
   "source": [
    "s[0:2]"
   ]
  },
  {
   "cell_type": "code",
   "execution_count": 42,
   "metadata": {},
   "outputs": [
    {
     "data": {
      "text/plain": [
       "'세요'"
      ]
     },
     "execution_count": 42,
     "metadata": {},
     "output_type": "execute_result"
    }
   ],
   "source": [
    "s[-2:]"
   ]
  },
  {
   "cell_type": "code",
   "execution_count": 46,
   "metadata": {},
   "outputs": [
    {
     "data": {
      "text/plain": [
       "'안녕하세요'"
      ]
     },
     "execution_count": 46,
     "metadata": {},
     "output_type": "execute_result"
    }
   ],
   "source": [
    "s"
   ]
  },
  {
   "cell_type": "code",
   "execution_count": 48,
   "metadata": {},
   "outputs": [
    {
     "data": {
      "text/plain": [
       "'세요'"
      ]
     },
     "execution_count": 48,
     "metadata": {},
     "output_type": "execute_result"
    }
   ],
   "source": [
    "s[3:5]"
   ]
  },
  {
   "cell_type": "code",
   "execution_count": 49,
   "metadata": {},
   "outputs": [
    {
     "data": {
      "text/plain": [
       "'안녕하세요'"
      ]
     },
     "execution_count": 49,
     "metadata": {},
     "output_type": "execute_result"
    }
   ],
   "source": [
    "s[:]"
   ]
  },
  {
   "cell_type": "code",
   "execution_count": 51,
   "metadata": {},
   "outputs": [
    {
     "name": "stdout",
     "output_type": "stream",
     "text": [
      "정수 입력 >> 12\n",
      "10보다 큰 수 입니다.\n",
      "짝수입니다.\n"
     ]
    }
   ],
   "source": [
    "num = int(input('정수 입력 >> '))\n",
    "if num >10:\n",
    "    print('10보다 큰 수 입니다.')\n",
    "    if(num%2==0):\n",
    "        print('짝수입니다.')\n",
    "    else:\n",
    "         print('홀수입니다.')\n",
    "else:\n",
    "    print('10보다 작은 수 입니다.')"
   ]
  },
  {
   "cell_type": "code",
   "execution_count": 57,
   "metadata": {},
   "outputs": [
    {
     "name": "stdout",
     "output_type": "stream",
     "text": [
      "[1]추가, [2]조회, [3]삭제, [4]종료\n",
      "기능선택1\n",
      "이름 >> 이대교\n",
      "연락처 >>010-3369-6611\n",
      "[1]추가, [2]조회, [3]삭제, [4]종료\n",
      "기능선택1\n",
      "이름 >> 채수민\n",
      "연락처 >>010-1111-1111\n",
      "[1]추가, [2]조회, [3]삭제, [4]종료\n",
      "기능선택3\n",
      "삭제할 이름 >>채수민\n",
      "[1]추가, [2]조회, [3]삭제, [4]종료\n",
      "기능선택2\n",
      "1.이대교:010-3369-6611\n",
      "[1]추가, [2]조회, [3]삭제, [4]종료\n",
      "기능선택4\n",
      "프로그램 종료\n"
     ]
    }
   ],
   "source": [
    "# 딕셔너리 사용하여 연락처 프로그램 만들기\n",
    "# 딕셔너리 -> key / value\n",
    "\n",
    "# 기능: 추가, 조회, 삭제, 종료\n",
    "# 비어있는 딕셔너리 생성\n",
    "tel = {}\n",
    "while(True):\n",
    "    print('[1]추가, [2]조회, [3]삭제, [4]종료')\n",
    "    choice = int(input('기능선택'))\n",
    "    \n",
    "    #사용자가 선택한 메뉴에 따라서 이동할 수 있도록 만들기\n",
    "    if (choice==1):\n",
    "        # 1번기능\n",
    "        name = input('이름 >> ')\n",
    "        number = input('연락처 >>')\n",
    "        #딕셔너리명[key] = value\n",
    "        tel[name] = number\n",
    "    elif (choice ==2):\n",
    "        # 2번 기능\n",
    "        #카운트를 셀 수 있는 변수 생성\n",
    "        cnt =0\n",
    "        #딕셔너리 형태에서 key값고 value값을 동시에 가지고 올 수 있는 녀석\n",
    "        for k,v in tel.items():\n",
    "            cnt+=1\n",
    "            print(f'{cnt}.{k}:{v}')\n",
    "    elif (choice ==3):\n",
    "        # 3번 기능 삭제\n",
    "        del_name = input('삭제할 이름 >>')\n",
    "        del tel[del_name]\n",
    "    elif (choice ==4):\n",
    "        print('프로그램 종료')\n",
    "        break\n",
    "    else:\n",
    "        print(\"잘못누르셨습니다.\")"
   ]
  },
  {
   "cell_type": "code",
   "execution_count": null,
   "metadata": {},
   "outputs": [],
   "source": []
  },
  {
   "cell_type": "code",
   "execution_count": null,
   "metadata": {},
   "outputs": [],
   "source": []
  }
 ],
 "metadata": {
  "kernelspec": {
   "display_name": "Python 3",
   "language": "python",
   "name": "python3"
  },
  "language_info": {
   "codemirror_mode": {
    "name": "ipython",
    "version": 3
   },
   "file_extension": ".py",
   "mimetype": "text/x-python",
   "name": "python",
   "nbconvert_exporter": "python",
   "pygments_lexer": "ipython3",
   "version": "3.8.5"
  }
 },
 "nbformat": 4,
 "nbformat_minor": 4
}
