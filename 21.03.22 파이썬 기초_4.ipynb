{
 "cells": [
  {
   "cell_type": "code",
   "execution_count": 2,
   "metadata": {},
   "outputs": [],
   "source": [
    "import pandas as pd\n",
    "import numpy as np"
   ]
  },
  {
   "cell_type": "markdown",
   "metadata": {},
   "source": [
    "# 조건문 elif"
   ]
  },
  {
   "cell_type": "code",
   "execution_count": 4,
   "metadata": {},
   "outputs": [
    {
     "name": "stdout",
     "output_type": "stream",
     "text": [
      "첫 번째 정수 입력 >>7\n",
      "두 번째 정수 입력 >>13\n",
      "두 번째 정수가 더 큽니다.\n"
     ]
    }
   ],
   "source": [
    "num1= int(input('첫 번째 정수 입력 >>'))\n",
    "num2= int(input('두 번째 정수 입력 >>'))\n",
    "if num1>num2: # 첫 번째  정수가 더 큰 경우\n",
    "    print('첫 번째 정수가 더 큽니다.')\n",
    "elif num1 <num2: # 두 번째 정수가 더 큰 경우\n",
    "    print('두 번째 정수가 더 큽니다.')\n",
    "else: # 두 정수가 같은 경우\n",
    "    print('두 수가 똑같습니다.')"
   ]
  },
  {
   "cell_type": "code",
   "execution_count": 4,
   "metadata": {},
   "outputs": [
    {
     "name": "stdout",
     "output_type": "stream",
     "text": [
      "점수 입력 >> 70\n",
      "70점은 C학점 입니다.\n"
     ]
    }
   ],
   "source": [
    "# 학점 계산기\n",
    "\n",
    "score = int(input('점수 입력 >> '))\n",
    "if score >=90:\n",
    "    print ('{}점은 A학점 입니다.'.format(score))\n",
    "elif score >=80:\n",
    "     print ('{}점은 B학점 입니다.'.format(score))\n",
    "elif score >=70:\n",
    "     print ('{}점은 C학점 입니다.'.format(score))\n",
    "elif score >=60:\n",
    "     print ('{}점은 D학점 입니다.'.format(score))\n",
    "else:\n",
    "    print ('{}점은 F학점 입니다.'.format(score))"
   ]
  },
  {
   "cell_type": "code",
   "execution_count": 22,
   "metadata": {},
   "outputs": [
    {
     "name": "stdout",
     "output_type": "stream",
     "text": [
      "Insert coin >>3000\n",
      "메뉴 선택  >>4\n",
      "잘못된 메뉴\n",
      "잔돈 >> 1000원 2개 500원 1개 100원 2개\n"
     ]
    }
   ],
   "source": [
    "coin = int(input('Insert coin >>'))\n",
    "menu = int(input('메뉴 선택  >>'))\n",
    "\n",
    "if coin >=600 and menu==1:    #600원 이상을 넣고 콜라를 선택했을 경우\n",
    "    coin -= 600                #coin = coin -600와 같음\n",
    "elif coin >=800 and menu ==2:  # 800원 이상을 넣고 사이다를 선택했을 경우\n",
    "    coin-=800\n",
    "elif coin >=1000 and menu ==3: #1000원 이상을 넣고 물 선택했을 경우\n",
    "    coin-= 1000\n",
    "elif menu<1 or menu >3:\n",
    "    print('잘못된 메뉴')\n",
    "else:\n",
    "    print('잔액 부족')\n",
    "\n",
    "num_1000: coin//1000 #1000원 짜리 개수\n",
    "num_500: (coin%1000)//500 #1000원 짜리를 제외한 금액에서 500원짜리 개수\n",
    "num_100: ((coin%1000)%500)//100 #\n",
    "\n",
    "print(f'잔돈 >> 1000원 {num_1000}개 500원 {num_500}개 100원 {num_100}개')\n",
    "    "
   ]
  },
  {
   "cell_type": "code",
   "execution_count": 20,
   "metadata": {},
   "outputs": [
    {
     "name": "stdout",
     "output_type": "stream",
     "text": [
      "================================================\n",
      "=============== ---- 자판기 ---- ===============\n",
      "================================================\n",
      "=== 1.콜라 == 2.사이다 == 3.물 ====== insert ===\n",
      "===--------==----------==------======--------===\n",
      "===   600  ==    800   == 1000 ======  000원 ===\n",
      "===================================== ------ ===\n",
      "insert coin >> 3700\n",
      "메뉴 선택 >> 3\n",
      "잔돈 >> 1000원 2개, 500원 1개, 100원 2개\n"
     ]
    }
   ],
   "source": [
    "# 공포의 자판기\n",
    "\n",
    "print(\"=\"*48)\n",
    "print(\"=\"*15, \"---- 자판기 ----\", \"=\"*15)\n",
    "print(\"=\"*48)\n",
    "print(\"===\", \"1.콜라\", \"==\", \"2.사이다\", \"==\", \"3.물\", \"=\"*6, \"insert\", \"===\")\n",
    "print(\"===--------==----------==------======--------===\")\n",
    "print(\"===\", \"  600 \", \"==\", \"   800  \", \"==\", \"1000\", \"=\"*6, \" 000원\", \"===\")\n",
    "print(\"=\"*37, \"-\"*6, \"=\"*3)\n",
    "\n",
    "coin = int(input(\"insert coin >> \"))\n",
    "menu = int(input(\"메뉴 선택 >> \"))\n",
    "\n",
    "if coin >= 600 and menu==1 :    # 600원 이상을 넣고 콜라를 선택했을 경우\n",
    "    coin -= 600                 # coin = coin - 600 와 같음\n",
    "elif coin >= 800 and menu==2 :  # 800원 이상을 넣고 사이다를 선택했을 경우\n",
    "    coin -= 800\n",
    "elif coin >= 1000 and menu==3 : # 1000원 이상을 넣고 물 선택했을 경우\n",
    "    coin -= 1000\n",
    "elif menu<1 or menu>3 :\n",
    "    print(\"잘못된 메뉴\")\n",
    "else : \n",
    "    print(\"잔액 부족\")\n",
    "    \n",
    "num_1000 = coin // 1000                 # 1000원 짜리 개수\n",
    "num_500 = (coin % 1000) // 500          # 1000원 짜리를 제외한 금액에서 500원짜리 개수\n",
    "num_100 = ((coin % 1000) % 500) // 100  # 100원 짜리 개수\n",
    "    \n",
    "print(f\"잔돈 >> 1000원 {num_1000}개, 500원 {num_500}개, 100원 {num_100}개\")"
   ]
  },
  {
   "cell_type": "code",
   "execution_count": null,
   "metadata": {},
   "outputs": [],
   "source": []
  },
  {
   "cell_type": "code",
   "execution_count": null,
   "metadata": {},
   "outputs": [],
   "source": []
  },
  {
   "cell_type": "code",
   "execution_count": null,
   "metadata": {},
   "outputs": [],
   "source": []
  },
  {
   "cell_type": "code",
   "execution_count": null,
   "metadata": {},
   "outputs": [],
   "source": []
  },
  {
   "cell_type": "code",
   "execution_count": null,
   "metadata": {},
   "outputs": [],
   "source": []
  },
  {
   "cell_type": "code",
   "execution_count": null,
   "metadata": {},
   "outputs": [],
   "source": []
  },
  {
   "cell_type": "code",
   "execution_count": null,
   "metadata": {},
   "outputs": [],
   "source": []
  },
  {
   "cell_type": "code",
   "execution_count": null,
   "metadata": {},
   "outputs": [],
   "source": []
  },
  {
   "cell_type": "code",
   "execution_count": null,
   "metadata": {},
   "outputs": [],
   "source": []
  },
  {
   "cell_type": "code",
   "execution_count": null,
   "metadata": {},
   "outputs": [],
   "source": []
  },
  {
   "cell_type": "code",
   "execution_count": null,
   "metadata": {},
   "outputs": [],
   "source": []
  },
  {
   "cell_type": "code",
   "execution_count": null,
   "metadata": {},
   "outputs": [],
   "source": []
  },
  {
   "cell_type": "code",
   "execution_count": null,
   "metadata": {},
   "outputs": [],
   "source": []
  },
  {
   "cell_type": "code",
   "execution_count": null,
   "metadata": {},
   "outputs": [],
   "source": []
  },
  {
   "cell_type": "code",
   "execution_count": null,
   "metadata": {},
   "outputs": [],
   "source": []
  },
  {
   "cell_type": "code",
   "execution_count": null,
   "metadata": {},
   "outputs": [],
   "source": []
  },
  {
   "cell_type": "code",
   "execution_count": null,
   "metadata": {},
   "outputs": [],
   "source": []
  },
  {
   "cell_type": "code",
   "execution_count": null,
   "metadata": {},
   "outputs": [],
   "source": []
  },
  {
   "cell_type": "code",
   "execution_count": null,
   "metadata": {},
   "outputs": [],
   "source": []
  },
  {
   "cell_type": "code",
   "execution_count": null,
   "metadata": {},
   "outputs": [],
   "source": []
  },
  {
   "cell_type": "code",
   "execution_count": null,
   "metadata": {},
   "outputs": [],
   "source": []
  },
  {
   "cell_type": "code",
   "execution_count": null,
   "metadata": {},
   "outputs": [],
   "source": []
  },
  {
   "cell_type": "code",
   "execution_count": null,
   "metadata": {},
   "outputs": [],
   "source": []
  },
  {
   "cell_type": "code",
   "execution_count": null,
   "metadata": {},
   "outputs": [],
   "source": []
  },
  {
   "cell_type": "code",
   "execution_count": null,
   "metadata": {},
   "outputs": [],
   "source": []
  },
  {
   "cell_type": "code",
   "execution_count": null,
   "metadata": {},
   "outputs": [],
   "source": []
  },
  {
   "cell_type": "code",
   "execution_count": null,
   "metadata": {},
   "outputs": [],
   "source": []
  },
  {
   "cell_type": "code",
   "execution_count": null,
   "metadata": {},
   "outputs": [],
   "source": []
  },
  {
   "cell_type": "code",
   "execution_count": null,
   "metadata": {},
   "outputs": [],
   "source": []
  },
  {
   "cell_type": "code",
   "execution_count": null,
   "metadata": {},
   "outputs": [],
   "source": []
  },
  {
   "cell_type": "code",
   "execution_count": null,
   "metadata": {},
   "outputs": [],
   "source": []
  },
  {
   "cell_type": "code",
   "execution_count": null,
   "metadata": {},
   "outputs": [],
   "source": []
  },
  {
   "cell_type": "code",
   "execution_count": null,
   "metadata": {},
   "outputs": [],
   "source": []
  },
  {
   "cell_type": "code",
   "execution_count": null,
   "metadata": {},
   "outputs": [],
   "source": []
  },
  {
   "cell_type": "code",
   "execution_count": null,
   "metadata": {},
   "outputs": [],
   "source": []
  },
  {
   "cell_type": "code",
   "execution_count": null,
   "metadata": {},
   "outputs": [],
   "source": []
  },
  {
   "cell_type": "code",
   "execution_count": null,
   "metadata": {},
   "outputs": [],
   "source": []
  },
  {
   "cell_type": "code",
   "execution_count": null,
   "metadata": {},
   "outputs": [],
   "source": []
  },
  {
   "cell_type": "code",
   "execution_count": null,
   "metadata": {},
   "outputs": [],
   "source": []
  },
  {
   "cell_type": "code",
   "execution_count": null,
   "metadata": {},
   "outputs": [],
   "source": []
  },
  {
   "cell_type": "code",
   "execution_count": null,
   "metadata": {},
   "outputs": [],
   "source": []
  },
  {
   "cell_type": "code",
   "execution_count": null,
   "metadata": {},
   "outputs": [],
   "source": []
  },
  {
   "cell_type": "code",
   "execution_count": null,
   "metadata": {},
   "outputs": [],
   "source": [
    "\n"
   ]
  },
  {
   "cell_type": "code",
   "execution_count": null,
   "metadata": {},
   "outputs": [],
   "source": []
  },
  {
   "cell_type": "code",
   "execution_count": null,
   "metadata": {},
   "outputs": [],
   "source": [
    "\n"
   ]
  },
  {
   "cell_type": "code",
   "execution_count": null,
   "metadata": {},
   "outputs": [],
   "source": []
  },
  {
   "cell_type": "code",
   "execution_count": null,
   "metadata": {},
   "outputs": [],
   "source": []
  },
  {
   "cell_type": "code",
   "execution_count": null,
   "metadata": {},
   "outputs": [],
   "source": []
  }
 ],
 "metadata": {
  "kernelspec": {
   "display_name": "Python 3",
   "language": "python",
   "name": "python3"
  },
  "language_info": {
   "codemirror_mode": {
    "name": "ipython",
    "version": 3
   },
   "file_extension": ".py",
   "mimetype": "text/x-python",
   "name": "python",
   "nbconvert_exporter": "python",
   "pygments_lexer": "ipython3",
   "version": "3.8.5"
  }
 },
 "nbformat": 4,
 "nbformat_minor": 4
}
