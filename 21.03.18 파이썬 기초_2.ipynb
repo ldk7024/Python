{
 "cells": [
  {
   "cell_type": "code",
   "execution_count": 2,
   "metadata": {},
   "outputs": [],
   "source": [
    "import numpy as np\n",
    "import pandas as pd\n",
    "import matplotlib.pyplot as plt"
   ]
  },
  {
   "cell_type": "markdown",
   "metadata": {},
   "source": [
    "## 연산자 종류\n",
    "### 산술 연산자 -> 더하기 + 빼기 - 곱하기 * 나누기  / 몫 // 나머지 %\n",
    "### 지수 연산자 -> **\n",
    "###  대입 연산자 -> = += -= *= /= //= %=\n",
    "###  관계 연산자 -> > >= <= == !="
   ]
  },
  {
   "cell_type": "code",
   "execution_count": 3,
   "metadata": {},
   "outputs": [
    {
     "name": "stdout",
     "output_type": "stream",
     "text": [
      "1.4285714285714286\n",
      "3\n",
      "1\n"
     ]
    }
   ],
   "source": [
    "num1 = 10\n",
    "num2 = 7\n",
    "print(num1/num2)\n",
    "print(num1%num2)\n",
    "print(num1//num2)"
   ]
  },
  {
   "cell_type": "code",
   "execution_count": 4,
   "metadata": {},
   "outputs": [
    {
     "name": "stdout",
     "output_type": "stream",
     "text": [
      "안녕하세요\n"
     ]
    }
   ],
   "source": [
    "str1 = '안녕'\n",
    "str2= '하세요'\n",
    "print(str1+str2)"
   ]
  },
  {
   "cell_type": "code",
   "execution_count": 5,
   "metadata": {},
   "outputs": [
    {
     "name": "stdout",
     "output_type": "stream",
     "text": [
      "107\n"
     ]
    }
   ],
   "source": [
    "str1='10'\n",
    "str2='7'\n",
    "print(str1+str2) #문자열이기 때문에 문자열 계산이 됨"
   ]
  },
  {
   "cell_type": "code",
   "execution_count": 7,
   "metadata": {},
   "outputs": [
    {
     "name": "stdout",
     "output_type": "stream",
     "text": [
      "17\n",
      "107\n"
     ]
    }
   ],
   "source": [
    "num1 = 10\n",
    "str2= '7'\n",
    "print(num1 +int(str2))\n",
    "print(str(num1)+str2)"
   ]
  },
  {
   "cell_type": "code",
   "execution_count": 10,
   "metadata": {},
   "outputs": [
    {
     "name": "stdout",
     "output_type": "stream",
     "text": [
      "더하기 결과 : 26\n",
      "빼기 결과 : 20\n",
      "곱하기 결과 : 69\n",
      "나누기 결과 : 7.666666666666667\n"
     ]
    }
   ],
   "source": [
    "num1 = 23\n",
    "num2 = 3\n",
    "print ('더하기 결과 :', num1+num2)\n",
    "print('빼기 결과 :', num1-num2)\n",
    "print('곱하기 결과 :', num1*num2)\n",
    "print('나누기 결과 :', num1/num2)\n",
    "#나눌때 콤마로 나눠야됨!!!!!"
   ]
  },
  {
   "cell_type": "code",
   "execution_count": 13,
   "metadata": {},
   "outputs": [
    {
     "name": "stdout",
     "output_type": "stream",
     "text": [
      "정수를 입력하세요>>133\n"
     ]
    }
   ],
   "source": [
    "num = int(input('정수를 입력하세요>>'))"
   ]
  },
  {
   "cell_type": "code",
   "execution_count": 14,
   "metadata": {},
   "outputs": [
    {
     "data": {
      "text/plain": [
       "133"
      ]
     },
     "execution_count": 14,
     "metadata": {},
     "output_type": "execute_result"
    }
   ],
   "source": [
    "num"
   ]
  },
  {
   "cell_type": "code",
   "execution_count": 17,
   "metadata": {},
   "outputs": [
    {
     "name": "stdout",
     "output_type": "stream",
     "text": [
      "정수를 입력하세요>>3\n",
      "정수를 입력하세요>>7\n",
      "더하기 결과: 10\n",
      "빼기 결과 -4\n",
      "곱하기 결과 21\n",
      "나누기 결과 0.42857142857142855\n"
     ]
    }
   ],
   "source": [
    "num1 = int(input('정수를 입력하세요>>')) #int로 문자를 바꿔줌\n",
    "num2 = int(input('정수를 입력하세요>>'))\n",
    "print('더하기 결과:', num1+num2)\n",
    "print('빼기 결과', num1-num2)\n",
    "print('곱하기 결과', num1*num2)\n",
    "print('나누기 결과', num1/num2)"
   ]
  },
  {
   "cell_type": "code",
   "execution_count": 23,
   "metadata": {},
   "outputs": [
    {
     "name": "stdout",
     "output_type": "stream",
     "text": [
      "숫자를 입력해주세요>> 4\n",
      "짝수\n"
     ]
    }
   ],
   "source": [
    "n = int(input('숫자를 입력해주세요>> '))\n",
    "print(\"짝수\"if n%2==0 else \"짝수가 아닙니다\")"
   ]
  },
  {
   "cell_type": "code",
   "execution_count": 25,
   "metadata": {},
   "outputs": [
    {
     "name": "stdout",
     "output_type": "stream",
     "text": [
      "python 점수 입력>>100\n",
      "머신러닝 점수 입력>>80\n",
      "딥러닝 점수 입력>>60\n",
      "합계: 240\n",
      "평균: 80.0\n"
     ]
    }
   ],
   "source": [
    "#input: 입력 받는 명령\n",
    "num1= int(input('python 점수 입력>>'))\n",
    "num2= int(input('머신러닝 점수 입력>>'))\n",
    "num3= int(input('딥러닝 점수 입력>>')) \n",
    "\n",
    "# 합계 변수에 담아줌\n",
    "sum1= num1+num2+num3\n",
    "\n",
    "#print: 출력하는 명령\n",
    "print ('합계: {}'. format(sum1))\n",
    "print ('평균: {}'.format(sum/3))"
   ]
  },
  {
   "cell_type": "code",
   "execution_count": 1,
   "metadata": {},
   "outputs": [
    {
     "name": "stdout",
     "output_type": "stream",
     "text": [
      "시간 입력>>7533\n",
      "2시간 5분 33초\n"
     ]
    }
   ],
   "source": [
    "#시간을 초로 입력받기\n",
    "time = int(input('시간 입력>>'))\n",
    "# 시, 분, 초에 대한 연산 진행\n",
    "hour =  time//3600  #time을 3600으로 나눈 몫이 hour(시)\n",
    "minute = (time%3600)//60 #time을 3600으로 나눈 나머지에서 60을 나눈 몫이 minute\n",
    "second = (time%3600)%60  #time을 3600으로 나눈 나머지에서 60을 나눈 나머지가 second\n",
    "# time//3600: 입력 받은 초에 대한 시간\n",
    "# time%3600: 시간을 구하고 남은 초\n",
    "# (time%3600)//60: 시간을 구하고 남은 초에서 분을 구하기!\n",
    "# (time % 3600)%60: 시간을 구하고 남은 초에서 분을 구하고 남은 초\n",
    "\n",
    "#포맷팅을 활용한 시, 분, 초 출력포맷팅을 활용한 시, 분, 초 출력\n",
    "print('{}시간 {}분 {}초'. format(hour, minute, second))"
   ]
  },
  {
   "cell_type": "code",
   "execution_count": 41,
   "metadata": {},
   "outputs": [
    {
     "name": "stdout",
     "output_type": "stream",
     "text": [
      "안녕하세요안녕하세요\n"
     ]
    }
   ],
   "source": [
    "s='안녕하세요'\n",
    "print(s*2)"
   ]
  },
  {
   "cell_type": "code",
   "execution_count": 7,
   "metadata": {},
   "outputs": [
    {
     "name": "stdout",
     "output_type": "stream",
     "text": [
      "********** 연산하기 **********\n",
      "정수입력>> 10\n",
      "정수입력>> 20\n",
      "+연산자 입력>> +\n",
      "10+20= 30\n"
     ]
    }
   ],
   "source": [
    "print('*'*10, '연산하기', '*'*10)\n",
    "num1 = int(input('정수입력>> '))\n",
    "num2 = int(input('정수입력>> '))\n",
    "cal= input('+연산자 입력>> ')\n",
    "print(('{}{}{}= {}').format(num1, cal, num2, num1+num2))"
   ]
  },
  {
   "cell_type": "code",
   "execution_count": null,
   "metadata": {},
   "outputs": [],
   "source": []
  },
  {
   "cell_type": "code",
   "execution_count": null,
   "metadata": {},
   "outputs": [],
   "source": []
  },
  {
   "cell_type": "code",
   "execution_count": null,
   "metadata": {},
   "outputs": [],
   "source": []
  },
  {
   "cell_type": "code",
   "execution_count": null,
   "metadata": {},
   "outputs": [],
   "source": []
  },
  {
   "cell_type": "code",
   "execution_count": null,
   "metadata": {},
   "outputs": [],
   "source": []
  },
  {
   "cell_type": "code",
   "execution_count": null,
   "metadata": {},
   "outputs": [],
   "source": []
  },
  {
   "cell_type": "code",
   "execution_count": null,
   "metadata": {},
   "outputs": [],
   "source": []
  },
  {
   "cell_type": "code",
   "execution_count": null,
   "metadata": {},
   "outputs": [],
   "source": []
  },
  {
   "cell_type": "code",
   "execution_count": null,
   "metadata": {},
   "outputs": [],
   "source": []
  },
  {
   "cell_type": "code",
   "execution_count": null,
   "metadata": {},
   "outputs": [],
   "source": []
  },
  {
   "cell_type": "code",
   "execution_count": null,
   "metadata": {},
   "outputs": [],
   "source": []
  },
  {
   "cell_type": "code",
   "execution_count": null,
   "metadata": {},
   "outputs": [],
   "source": []
  },
  {
   "cell_type": "code",
   "execution_count": null,
   "metadata": {},
   "outputs": [],
   "source": []
  },
  {
   "cell_type": "code",
   "execution_count": null,
   "metadata": {},
   "outputs": [],
   "source": []
  },
  {
   "cell_type": "code",
   "execution_count": null,
   "metadata": {},
   "outputs": [],
   "source": []
  },
  {
   "cell_type": "code",
   "execution_count": null,
   "metadata": {},
   "outputs": [],
   "source": []
  },
  {
   "cell_type": "code",
   "execution_count": null,
   "metadata": {},
   "outputs": [],
   "source": []
  },
  {
   "cell_type": "code",
   "execution_count": null,
   "metadata": {},
   "outputs": [],
   "source": []
  },
  {
   "cell_type": "code",
   "execution_count": null,
   "metadata": {},
   "outputs": [],
   "source": []
  },
  {
   "cell_type": "code",
   "execution_count": null,
   "metadata": {},
   "outputs": [],
   "source": []
  },
  {
   "cell_type": "code",
   "execution_count": null,
   "metadata": {},
   "outputs": [],
   "source": []
  },
  {
   "cell_type": "code",
   "execution_count": null,
   "metadata": {},
   "outputs": [],
   "source": []
  }
 ],
 "metadata": {
  "kernelspec": {
   "display_name": "Python 3",
   "language": "python",
   "name": "python3"
  },
  "language_info": {
   "codemirror_mode": {
    "name": "ipython",
    "version": 3
   },
   "file_extension": ".py",
   "mimetype": "text/x-python",
   "name": "python",
   "nbconvert_exporter": "python",
   "pygments_lexer": "ipython3",
   "version": "3.8.5"
  }
 },
 "nbformat": 4,
 "nbformat_minor": 4
}
