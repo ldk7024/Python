{
 "cells": [
  {
   "cell_type": "code",
   "execution_count": 1,
   "metadata": {},
   "outputs": [],
   "source": [
    "import numpy as np\n",
    "import pandas as pd"
   ]
  },
  {
   "cell_type": "markdown",
   "metadata": {},
   "source": [
    "## Series 연산"
   ]
  },
  {
   "cell_type": "code",
   "execution_count": 2,
   "metadata": {},
   "outputs": [
    {
     "data": {
      "text/plain": [
       "서울    9904124\n",
       "부산    3448736\n",
       "인천    2895432\n",
       "대구    2466052\n",
       "dtype: int64"
      ]
     },
     "execution_count": 2,
     "metadata": {},
     "output_type": "execute_result"
    }
   ],
   "source": [
    "population= pd.Series([9904124,3448736,2895432,2466052], index= ['서울', '부산','인천','대구'])\n",
    "population"
   ]
  },
  {
   "cell_type": "code",
   "execution_count": 3,
   "metadata": {},
   "outputs": [
    {
     "data": {
      "text/plain": [
       "도시\n",
       "서울    9904124\n",
       "부산    3448736\n",
       "인천    2895432\n",
       "대구    2466052\n",
       "Name: 인구, dtype: int64"
      ]
     },
     "execution_count": 3,
     "metadata": {},
     "output_type": "execute_result"
    }
   ],
   "source": [
    "population.name= '인구'\n",
    "population.index.name ='도시'\n",
    "population"
   ]
  },
  {
   "cell_type": "code",
   "execution_count": 4,
   "metadata": {},
   "outputs": [
    {
     "data": {
      "text/plain": [
       "도시\n",
       "서울    9.904124\n",
       "부산    3.448736\n",
       "인천    2.895432\n",
       "대구    2.466052\n",
       "Name: 인구, dtype: float64"
      ]
     },
     "execution_count": 4,
     "metadata": {},
     "output_type": "execute_result"
    }
   ],
   "source": [
    "population/1000000"
   ]
  },
  {
   "cell_type": "markdown",
   "metadata": {},
   "source": [
    "### Series 인덱싱, 슬라이싱"
   ]
  },
  {
   "cell_type": "code",
   "execution_count": 6,
   "metadata": {},
   "outputs": [
    {
     "name": "stdout",
     "output_type": "stream",
     "text": [
      "9904124\n",
      "9904124\n"
     ]
    }
   ],
   "source": [
    "# 인덱싱\n",
    "# Series에서는 index에 값을 지정해줬을때\n",
    "# index값과 index번호 둘다 인덱싱에 사용가능\n",
    "print(population[0])\n",
    "print(population['서울']) "
   ]
  },
  {
   "cell_type": "code",
   "execution_count": 8,
   "metadata": {},
   "outputs": [
    {
     "data": {
      "text/plain": [
       "도시\n",
       "대구    2466052\n",
       "인천    2895432\n",
       "Name: 인구, dtype: int64"
      ]
     },
     "execution_count": 8,
     "metadata": {},
     "output_type": "execute_result"
    }
   ],
   "source": [
    "# 한번에 여러 값 인덱싱하기\n",
    "# 리스트 값을 통해 여러가지 값 인덱싱 가능\n",
    "# 원하는 순서대로 값을 가져올 수 있다.\n",
    "population [['인천','서울','부산']]\n",
    "population [[3,2]]"
   ]
  },
  {
   "cell_type": "code",
   "execution_count": 9,
   "metadata": {},
   "outputs": [
    {
     "data": {
      "text/plain": [
       "도시\n",
       "서울     True\n",
       "부산     True\n",
       "인천     True\n",
       "대구    False\n",
       "Name: 인구, dtype: bool"
      ]
     },
     "execution_count": 9,
     "metadata": {},
     "output_type": "execute_result"
    }
   ],
   "source": [
    "# boolean 인덱싱\n",
    "population>=2500000"
   ]
  },
  {
   "cell_type": "code",
   "execution_count": null,
   "metadata": {},
   "outputs": [],
   "source": [
    "# 두가지 이상의 조건으로 불리언 인덱싱 하기\n",
    "# 250만 이상, 500만 이하 인구를 가지는 도시 추출"
   ]
  },
  {
   "cell_type": "code",
   "execution_count": 16,
   "metadata": {},
   "outputs": [
    {
     "data": {
      "text/plain": [
       "도시\n",
       "부산    3448736\n",
       "인천    2895432\n",
       "Name: 인구, dtype: int64"
      ]
     },
     "execution_count": 16,
     "metadata": {},
     "output_type": "execute_result"
    }
   ],
   "source": [
    "population [(population >=2500000) & (population <=5000000)]"
   ]
  },
  {
   "cell_type": "markdown",
   "metadata": {},
   "source": [
    "#### 슬라이싱\n",
    "- index 값을 사용 [이상:이하]\n",
    "- index 번호를 사용 [이상 : 미만]"
   ]
  },
  {
   "cell_type": "code",
   "execution_count": 26,
   "metadata": {},
   "outputs": [
    {
     "name": "stdout",
     "output_type": "stream",
     "text": [
      "도시\n",
      "부산    3448736\n",
      "인천    2895432\n",
      "Name: 인구, dtype: int64\n",
      "도시\n",
      "부산    3448736\n",
      "인천    2895432\n",
      "Name: 인구, dtype: int64\n"
     ]
    }
   ],
   "source": [
    "print(population[1:3]) # [이상:미만]\n",
    "print(population['부산':'인천']) #[이상:이하]"
   ]
  },
  {
   "cell_type": "markdown",
   "metadata": {},
   "source": [
    "### 연습문제 ###\n",
    "- 스마트 중학교 1학년 1반의 중간고사 성적\n",
    "- (국어,영어, 수학, 과학, 사회)점수를 series 데이터로 생성하시오.\n",
    "- 인덱스 값, 인덱스 이름, Series 이름 부여\n",
    "- 국어, 영어, 수학 점수만 추출"
   ]
  },
  {
   "cell_type": "code",
   "execution_count": 28,
   "metadata": {},
   "outputs": [
    {
     "data": {
      "text/plain": [
       "국어     90\n",
       "영어     80\n",
       "수학     70\n",
       "과학     60\n",
       "사회    100\n",
       "dtype: int64"
      ]
     },
     "execution_count": 28,
     "metadata": {},
     "output_type": "execute_result"
    }
   ],
   "source": [
    "result= pd.Series([90,80,70,60,100], index= ['국어', '영어','수학','과학','사회'])\n",
    "result"
   ]
  },
  {
   "cell_type": "code",
   "execution_count": 30,
   "metadata": {},
   "outputs": [],
   "source": [
    "result.name= '중간고사 성적'\n",
    "result.index.name ='과목'"
   ]
  },
  {
   "cell_type": "code",
   "execution_count": 31,
   "metadata": {},
   "outputs": [
    {
     "data": {
      "text/plain": [
       "과목\n",
       "국어     90\n",
       "영어     80\n",
       "수학     70\n",
       "과학     60\n",
       "사회    100\n",
       "Name: 중간고사 성적, dtype: int64"
      ]
     },
     "execution_count": 31,
     "metadata": {},
     "output_type": "execute_result"
    }
   ],
   "source": [
    "result"
   ]
  },
  {
   "cell_type": "code",
   "execution_count": 33,
   "metadata": {},
   "outputs": [
    {
     "data": {
      "text/plain": [
       "과목\n",
       "국어    90\n",
       "영어    80\n",
       "수학    70\n",
       "Name: 중간고사 성적, dtype: int64"
      ]
     },
     "execution_count": 33,
     "metadata": {},
     "output_type": "execute_result"
    }
   ],
   "source": [
    "result[0:3]"
   ]
  },
  {
   "cell_type": "code",
   "execution_count": 36,
   "metadata": {},
   "outputs": [
    {
     "data": {
      "text/plain": [
       "과목\n",
       "국어     90\n",
       "사회    100\n",
       "Name: 중간고사 성적, dtype: int64"
      ]
     },
     "execution_count": 36,
     "metadata": {},
     "output_type": "execute_result"
    }
   ],
   "source": [
    "result[result>=85]"
   ]
  },
  {
   "cell_type": "markdown",
   "metadata": {},
   "source": [
    "- 80점 이상, 90점 이하 과목 추출"
   ]
  },
  {
   "cell_type": "code",
   "execution_count": 38,
   "metadata": {},
   "outputs": [
    {
     "data": {
      "text/plain": [
       "과목\n",
       "국어    90\n",
       "영어    80\n",
       "Name: 중간고사 성적, dtype: int64"
      ]
     },
     "execution_count": 38,
     "metadata": {},
     "output_type": "execute_result"
    }
   ],
   "source": [
    "result[(result >=80)&(result<=90)]"
   ]
  },
  {
   "cell_type": "markdown",
   "metadata": {},
   "source": [
    "- 평균, 합계, 최대값 "
   ]
  },
  {
   "cell_type": "code",
   "execution_count": 43,
   "metadata": {},
   "outputs": [
    {
     "name": "stdout",
     "output_type": "stream",
     "text": [
      "평균:  80.0\n",
      "합계:  400\n",
      "최대값 : 100\n"
     ]
    }
   ],
   "source": [
    "print(\"평균: \",result.mean())\n",
    "print(\"합계: \", np.sum(result))\n",
    "print(\"최대값 :\", np.max(result) )"
   ]
  },
  {
   "cell_type": "code",
   "execution_count": null,
   "metadata": {},
   "outputs": [],
   "source": []
  }
 ],
 "metadata": {
  "kernelspec": {
   "display_name": "Python 3",
   "language": "python",
   "name": "python3"
  },
  "language_info": {
   "codemirror_mode": {
    "name": "ipython",
    "version": 3
   },
   "file_extension": ".py",
   "mimetype": "text/x-python",
   "name": "python",
   "nbconvert_exporter": "python",
   "pygments_lexer": "ipython3",
   "version": "3.8.5"
  }
 },
 "nbformat": 4,
 "nbformat_minor": 4
}
