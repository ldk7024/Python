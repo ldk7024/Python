{
 "cells": [
  {
   "cell_type": "code",
   "execution_count": null,
   "metadata": {},
   "outputs": [],
   "source": [
    "# 6\n",
    "print(\"====사칙연산(+, -, *, /)====\")\n",
    "num1 = int(input(\"첫 번째 정수 입력 : \"))\n",
    "num2 = int(input(\"두 번째 정수 입력 : \"))\n",
    "cal = input(\"연산자 입력 : \")\n",
    "\n",
    "if cal == \"+\" :\n",
    "    result = num1 + num2\n",
    "elif cal == \"-\" :\n",
    "    result = num1 - num2\n",
    "elif cal == \"*\" :\n",
    "    result = num1 * num2\n",
    "elif cal == \"/\" :\n",
    "    result = num1 / num2\n",
    "else :\n",
    "    print(\"없는 연산자 입니다.\")\n",
    "\n",
    "print(\"연산결과 :\", result)"
   ]
  },
  {
   "cell_type": "code",
   "execution_count": 2,
   "metadata": {},
   "outputs": [
    {
     "name": "stdout",
     "output_type": "stream",
     "text": [
      "7*1=7 7*2=14 7*3=21 7*4=28 7*5=35 7*6=42 7*7=49 7*8=56 7*9=63 "
     ]
    }
   ],
   "source": [
    "# 7\n",
    "for i in range(1, 10, 1) :\n",
    "    print(f\"7*{i}={7*i}\", end=\" \")"
   ]
  },
  {
   "cell_type": "code",
   "execution_count": null,
   "metadata": {},
   "outputs": [],
   "source": [
    "# 8\n",
    "for su in range(1, 10, 1):\n",
    "    for dan in range(2, 10, 1):\n",
    "        print(f\"{dan}*{su}={dan*su}\\t\", end=\"\")\n",
    "    print()"
   ]
  },
  {
   "cell_type": "code",
   "execution_count": 16,
   "metadata": {},
   "outputs": [
    {
     "name": "stdout",
     "output_type": "stream",
     "text": [
      "3의배수 : 2개, 4의배수 : 3개, 그 외 : 2개\n"
     ]
    }
   ],
   "source": [
    "# 9\n",
    "list1 = [3, 62, 15, 20, 44, 55, 32]\n",
    "num_3, num_4, order = 0, 0, 0\n",
    "\n",
    "for i in list1 :\n",
    "    if i % 3 == 0 :\n",
    "        num_3 += 1\n",
    "    elif i % 4 == 0:\n",
    "        num_4 += 1\n",
    "    else :\n",
    "        order += 1\n",
    "        \n",
    "print(f\"3의배수 : {num_3}개, 4의배수 : {num_4}개, 그 외 : {order}개\")"
   ]
  },
  {
   "cell_type": "code",
   "execution_count": 10,
   "metadata": {},
   "outputs": [],
   "source": [
    "score_list = [[\"박매일\",89,78,99],\n",
    "              [\"김미희\",67,88,77],\n",
    "              [\"강예진\",100,55,96]\n",
    "             ]"
   ]
  },
  {
   "cell_type": "code",
   "execution_count": 11,
   "metadata": {},
   "outputs": [
    {
     "name": "stdout",
     "output_type": "stream",
     "text": [
      "================================================\n",
      "이름\tPython\tJava\tDB\t평균\t학점\n",
      "================================================\n",
      "박매일 \t 89 \t 78 \t 99 \t 88 \t B\n",
      "김미희 \t 67 \t 88 \t 77 \t 77 \t C\n",
      "강예진 \t 100 \t 55 \t 96 \t 83 \t B\n",
      "================================================\n",
      "평균\t 85 \t 73 \t 90\n"
     ]
    }
   ],
   "source": [
    "# 10\n",
    "print(\"=\"*48)\n",
    "print(\"이름\\tPython\\tJava\\tDB\\t평균\\t학점\")  # 출력결과 1번째 줄\n",
    "print(\"=\"*48)\n",
    "\n",
    "python, java, db = 0, 0, 0\n",
    "\n",
    "for i in score_list :  # i = score_list[0], score_list[1], score_list[2]\n",
    "    \n",
    "    avg = ( i[1] + i[2] + i[3] ) / 3  # 선생님 별 평균\n",
    "    avg_P, avg_J, avg_D = 0, 0, 0     # 과목 별 평균\n",
    "    \n",
    "    # 학점 판단 조건\n",
    "    if avg >= 90 :\n",
    "        grade = \"A\"\n",
    "    elif avg >= 80 :\n",
    "        grade = \"B\"\n",
    "    elif avg >= 70 :\n",
    "        grade = \"C\"\n",
    "    elif avg >= 60 :\n",
    "        grade = \"D\"\n",
    "    else :\n",
    "        grade = \"F\"\n",
    "    \n",
    "    print(i[0], \"\\t\", i[1], \"\\t\", i[2], \"\\t\", i[3], \"\\t\", int(avg), \"\\t\", grade)   # 출력결과 4~6번째 줄\n",
    "    \n",
    "    python += i[1]\n",
    "    java += i[2]\n",
    "    db += i[3]\n",
    "    \n",
    "avg_P = python / len(score_list)  # 파이썬 점수들의 합을 선생님 수로 나눔\n",
    "avg_J = java / len(score_list)\n",
    "avg_D = db / len(score_list)\n",
    "\n",
    "print(\"=\"*48)\n",
    "print(\"평균\\t\", int(avg_P), \"\\t\", int(avg_J), \"\\t\", int(avg_D))   # 출력결과 마지막 줄"
   ]
  },
  {
   "cell_type": "code",
   "execution_count": 3,
   "metadata": {},
   "outputs": [],
   "source": [
    "import pickle\n",
    "\n",
    "with open('data/movie_review.pkl', 'rb') as f :\n",
    "    reviews = pickle.load(f)"
   ]
  },
  {
   "cell_type": "code",
   "execution_count": 8,
   "metadata": {},
   "outputs": [
    {
     "name": "stdout",
     "output_type": "stream",
     "text": [
      "검색 할 단어 입력 : 영화\n",
      "영화 단어의 개수 : 1969\n"
     ]
    }
   ],
   "source": [
    "# 11\n",
    "search = input(\"검색 할 단어 입력 : \")\n",
    "count = 0\n",
    "\n",
    "for i in reviews :\n",
    "    \n",
    "    if search in i[0] :\n",
    "        count += i[0].count(search)  # .count() => 찾고자 하는 문자의 개수\n",
    "        \n",
    "print(f\"{search} 단어의 개수 : {count}\")"
   ]
  },
  {
   "cell_type": "code",
   "execution_count": 7,
   "metadata": {},
   "outputs": [
    {
     "name": "stdout",
     "output_type": "stream",
     "text": [
      "- 난 우리영화를 사랑합니다....^^;\n",
      "- 윤종신 복귀는 좋았지만 이하늘은 도대체 왜 뽑혔는지 알수가없다. 참가자 실력을 따지기 전에 심사위원 인격과 실력부터 쌓고 오시길^^ 어하어허 그만좀 하고요\n",
      "- 남주인공 연기력 안습이네요... 혀짧은 소리 듣기도 너무 힘들었네요 매니저역활분이 남주인공하는게 훨 좋았겠다는 생각이 들정도... 영화 자체는 적당히 볼 만 합니다 ^^\n",
      "- 진짜재미없다..영화관에삼십분정도늦게들어갔는데사람이한명도없고..그이유를왠지알것같네..^^완전비추요\n",
      "- 생애최고의 쓰레기영화....왠만하면 평점도안쓰는대 킬링타임이라도 보지마요 보다가화남^^\n",
      "- 요즘은함께하는거본다 옴니버스식이던데 그러기엔. 가족이넘 많아요 머좀 빠져들려면 바뀌고바뀌고 전 시즌1부터 오로지 윤후 보려고보는데 점점 산만해지는 느낌이예요~~^^우리 윤후 분량좀 많이많이 늘려주세요~ ^^너무착하고예쁜 후~~^^\n",
      "- 영계환장병걸린 노땅녀의 일탈.베베꼬면서 포장하기보단 좀더 하드하게갔다면..^^\n",
      "- 예상치 못한 반전이 있어 독특한 것은 사실이나 다소 극단적으로 표현한 느낌이 있다. 이영화를 보고 어떤 통쾌함과 대리 만족을 느끼고자 하는 콰이어트맨들이 있다면 권장하고 싶지 않은 영화이다. ^^ 크리스찬 슬레이터의 연기력 때문에 2점준다..ㅋㅋ\n",
      "- 사토시의 인기 하나믿고 개봉한것 같네요^^;\n",
      "- 평점이 너무 높으므로 1만 준다...원래는 7정도^^\n",
      "- 귀여운 헨젤 앤 그레텔 ^^\n",
      "\n",
      "부정 : 11개\n",
      "긍정 : 86개\n"
     ]
    }
   ],
   "source": [
    "# 12\n",
    "count_pos = 0\n",
    "count_neg = 0\n",
    "\n",
    "for i in reviews :\n",
    "    \n",
    "    if \"^^\" in i[0] :\n",
    "        \n",
    "        if i[1] == 1 :\n",
    "            count_pos += 1\n",
    "        else :\n",
    "            count_neg += 1\n",
    "            print(\"-\", i[0])\n",
    "    \n",
    "print()\n",
    "print(f\"부정 : {count_neg}개\")\n",
    "print(f\"긍정 : {count_pos}개\")"
   ]
  },
  {
   "cell_type": "code",
   "execution_count": null,
   "metadata": {},
   "outputs": [],
   "source": []
  }
 ],
 "metadata": {
  "kernelspec": {
   "display_name": "Python 3",
   "language": "python",
   "name": "python3"
  },
  "language_info": {
   "codemirror_mode": {
    "name": "ipython",
    "version": 3
   },
   "file_extension": ".py",
   "mimetype": "text/x-python",
   "name": "python",
   "nbconvert_exporter": "python",
   "pygments_lexer": "ipython3",
   "version": "3.7.6"
  }
 },
 "nbformat": 4,
 "nbformat_minor": 4
}
